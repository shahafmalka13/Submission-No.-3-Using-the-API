{
 "cells": [
  {
   "cell_type": "code",
   "execution_count": 4,
   "metadata": {},
   "outputs": [],
   "source": [
    "import requests\n",
    "import json\n",
    "import pandas as pd"
   ]
  },
  {
   "cell_type": "code",
   "execution_count": 6,
   "metadata": {},
   "outputs": [],
   "source": [
    "with open('dests.txt', 'r') as file:\n",
    "    destinations = [line.strip() for line in file]"
   ]
  },
  {
   "cell_type": "code",
   "execution_count": 7,
   "metadata": {},
   "outputs": [],
   "source": [
    "distance_url = \"https://maps.googleapis.com/maps/api/distancematrix/json\"\n",
    "geocoding_url = \"https://maps.googleapis.com/maps/api/geocode/json\"\n",
    "origin = \"Tel Aviv\"\n",
    "api_key = \"your api key\"#I took mine down so it wouldn't be used, as Anat said"
   ]
  },
  {
   "cell_type": "code",
   "execution_count": 8,
   "metadata": {},
   "outputs": [],
   "source": [
    "targets = []\n",
    "distances = []\n",
    "durations = []\n",
    "latitudes = []\n",
    "longitudes = []\n",
    "for destination in destinations:\n",
    "    distance_response = requests.get(\n",
    "        distance_url,\n",
    "        params={\n",
    "            \"origins\": origin,\n",
    "            \"destinations\": destination,\n",
    "            \"key\": api_key\n",
    "        }\n",
    "    )\n",
    "    distance_data = json.loads(distance_response.text)\n",
    "    distance = distance_data[\"rows\"][0][\"elements\"][0][\"distance\"][\"text\"]\n",
    "    duration = distance_data[\"rows\"][0][\"elements\"][0][\"duration\"][\"text\"]\n",
    "\n",
    "    geocoding_response = requests.get(\n",
    "        geocoding_url,\n",
    "        params={\n",
    "            \"address\": destination,\n",
    "            \"key\": api_key\n",
    "        }\n",
    "    )\n",
    "    geocoding_data = json.loads(geocoding_response.text)\n",
    "    latitude = geocoding_data[\"results\"][0][\"geometry\"][\"location\"][\"lat\"]\n",
    "    longitude = geocoding_data[\"results\"][0][\"geometry\"][\"location\"][\"lng\"]\n",
    "\n",
    "    targets.append(destination)\n",
    "    distances.append(distance)\n",
    "    durations.append(duration)\n",
    "    latitudes.append(latitude)\n",
    "    longitudes.append(longitude)"
   ]
  },
  {
   "cell_type": "code",
   "execution_count": 11,
   "metadata": {},
   "outputs": [],
   "source": [
    "data = {\n",
    "    \"Target\": targets,\n",
    "    \"Distance_km\": distances,\n",
    "    \"Duration\": durations,\n",
    "    \"Latitude\": latitudes,\n",
    "    \"Longitude\": longitudes\n",
    "}\n",
    "df = pd.DataFrame(data)\n"
   ]
  },
  {
   "cell_type": "code",
   "execution_count": 12,
   "metadata": {},
   "outputs": [
    {
     "name": "stdout",
     "output_type": "stream",
     "text": [
      "      Target Distance_km          Duration   Latitude  Longitude\n",
      "0   Istanbul    1,815 km   21 hours 3 mins  41.008238  28.978359\n",
      "1  Amsterdam    4,533 km    2 days 0 hours  52.367573   4.904139\n",
      "2   Valletta    3,793 km    2 days 3 hours  35.899237  14.514100\n",
      "3      Basel    4,093 km    1 day 20 hours  47.559599   7.588576\n",
      "4       Doha    2,164 km  22 hours 39 mins  25.285447  51.531040\n"
     ]
    }
   ],
   "source": [
    "print(df)"
   ]
  },
  {
   "cell_type": "code",
   "execution_count": 17,
   "metadata": {},
   "outputs": [
    {
     "name": "stdout",
     "output_type": "stream",
     "text": [
      "1    Amsterdam\n",
      "3        Basel\n",
      "2     Valletta\n",
      "Name: Target, dtype: object\n"
     ]
    }
   ],
   "source": [
    "sorted_df = df.sort_values(by='Distance_km', ascending=False)\n",
    "furthest_cities = sorted_df.head(3)['Target']\n",
    "print(furthest_cities)\n"
   ]
  },
  {
   "cell_type": "code",
   "execution_count": null,
   "metadata": {},
   "outputs": [],
   "source": []
  }
 ],
 "metadata": {
  "kernelspec": {
   "display_name": "Python 3",
   "language": "python",
   "name": "python3"
  },
  "language_info": {
   "codemirror_mode": {
    "name": "ipython",
    "version": 3
   },
   "file_extension": ".py",
   "mimetype": "text/x-python",
   "name": "python",
   "nbconvert_exporter": "python",
   "pygments_lexer": "ipython3",
   "version": "3.8.3"
  }
 },
 "nbformat": 4,
 "nbformat_minor": 4
}
